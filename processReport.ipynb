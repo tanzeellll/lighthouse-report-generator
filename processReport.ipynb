{
 "cells": [
  {
   "cell_type": "code",
   "execution_count": 27,
   "metadata": {},
   "outputs": [],
   "source": [
    "import json\n",
    "import pandas as pd"
   ]
  },
  {
   "cell_type": "code",
   "execution_count": 35,
   "metadata": {},
   "outputs": [],
   "source": [
    "# Load the JSON data from the file\n",
    "with open('lighthouse-report.json', 'r') as json_file:\n",
    "    data = json.load(json_file)"
   ]
  },
  {
   "cell_type": "code",
   "execution_count": 36,
   "metadata": {},
   "outputs": [
    {
     "name": "stdout",
     "output_type": "stream",
     "text": [
      "1.4 s\n",
      "2.0 s\n",
      "1.4 s\n",
      "1.7 s\n",
      "0 ms\n",
      "0\n",
      "Root document took 530 ms\n",
      "1.4 s\n"
     ]
    }
   ],
   "source": [
    "print (data['audits']['first-contentful-paint']['displayValue'])\n",
    "print (data['audits']['largest-contentful-paint']['displayValue'])\n",
    "print (data['audits']['first-meaningful-paint']['displayValue'])\n",
    "print (data['audits']['speed-index']['displayValue'])\n",
    "print (data['audits']['total-blocking-time']['displayValue'])\n",
    "print (data['audits']['cumulative-layout-shift']['displayValue'])\n",
    "print (data['audits']['server-response-time']['displayValue']) \n",
    "print (data['audits']['interactive']['displayValue'])\n",
    "\n"
   ]
  },
  {
   "cell_type": "code",
   "execution_count": 37,
   "metadata": {},
   "outputs": [
    {
     "name": "stdout",
     "output_type": "stream",
     "text": [
      "0.84\n",
      "0.8\n",
      "0.92\n",
      "1\n"
     ]
    }
   ],
   "source": [
    "print (data['categories']['performance']['score'])\n",
    "print (data['categories']['accessibility']['score'])\n",
    "print (data['categories']['seo']['score'])\n",
    "print (data['categories']['best-practices']['score'])"
   ]
  },
  {
   "cell_type": "code",
   "execution_count": 38,
   "metadata": {},
   "outputs": [],
   "source": [
    "fcp = data['audits']['first-contentful-paint']['displayValue']\n",
    "lcp = data['audits']['largest-contentful-paint']['displayValue']\n",
    "fmp = data['audits']['first-meaningful-paint']['displayValue']\n",
    "si = data['audits']['speed-index']['displayValue']\n",
    "tbt = data['audits']['total-blocking-time']['displayValue']\n",
    "cls = data['audits']['cumulative-layout-shift']['displayValue']\n",
    "srt = data['audits']['server-response-time']['displayValue']\n",
    "int = data['audits']['interactive']['displayValue']"
   ]
  },
  {
   "cell_type": "code",
   "execution_count": 39,
   "metadata": {},
   "outputs": [],
   "source": [
    "p = data['categories']['performance']['score']\n",
    "a = data['categories']['accessibility']['score']\n",
    "seo = data['categories']['seo']['score']\n",
    "bp = data['categories']['best-practices']['score']"
   ]
  },
  {
   "cell_type": "code",
   "execution_count": 40,
   "metadata": {},
   "outputs": [],
   "source": [
    "df = pd.DataFrame(columns=['fcp', 'lcp', 'fmp', 'si', 'tbt', 'cls', 'srt', 'int', 'perf', 'acces', 'seo', 'bp'])\n",
    "\n",
    "# Define the values for a new row\n",
    "new_row_values = [fcp, lcp, fmp, si, tbt, cls, srt, int, p, a, seo, bp]\n",
    "\n",
    "# Add the new row to the DataFrame\n",
    "df.loc[0] = new_row_values"
   ]
  },
  {
   "cell_type": "code",
   "execution_count": 41,
   "metadata": {},
   "outputs": [
    {
     "data": {
      "text/html": [
       "<div>\n",
       "<style scoped>\n",
       "    .dataframe tbody tr th:only-of-type {\n",
       "        vertical-align: middle;\n",
       "    }\n",
       "\n",
       "    .dataframe tbody tr th {\n",
       "        vertical-align: top;\n",
       "    }\n",
       "\n",
       "    .dataframe thead th {\n",
       "        text-align: right;\n",
       "    }\n",
       "</style>\n",
       "<table border=\"1\" class=\"dataframe\">\n",
       "  <thead>\n",
       "    <tr style=\"text-align: right;\">\n",
       "      <th></th>\n",
       "      <th>fcp</th>\n",
       "      <th>lcp</th>\n",
       "      <th>fmp</th>\n",
       "      <th>si</th>\n",
       "      <th>tbt</th>\n",
       "      <th>cls</th>\n",
       "      <th>srt</th>\n",
       "      <th>int</th>\n",
       "      <th>perf</th>\n",
       "      <th>acces</th>\n",
       "      <th>seo</th>\n",
       "      <th>bp</th>\n",
       "    </tr>\n",
       "  </thead>\n",
       "  <tbody>\n",
       "    <tr>\n",
       "      <th>0</th>\n",
       "      <td>1.4 s</td>\n",
       "      <td>2.0 s</td>\n",
       "      <td>1.4 s</td>\n",
       "      <td>1.7 s</td>\n",
       "      <td>0 ms</td>\n",
       "      <td>0</td>\n",
       "      <td>Root document took 530 ms</td>\n",
       "      <td>1.4 s</td>\n",
       "      <td>0.84</td>\n",
       "      <td>0.8</td>\n",
       "      <td>0.92</td>\n",
       "      <td>1</td>\n",
       "    </tr>\n",
       "  </tbody>\n",
       "</table>\n",
       "</div>"
      ],
      "text/plain": [
       "     fcp    lcp    fmp     si   tbt cls                        srt    int  \\\n",
       "0  1.4 s  2.0 s  1.4 s  1.7 s  0 ms   0  Root document took 530 ms  1.4 s   \n",
       "\n",
       "   perf  acces   seo  bp  \n",
       "0  0.84    0.8  0.92   1  "
      ]
     },
     "execution_count": 41,
     "metadata": {},
     "output_type": "execute_result"
    }
   ],
   "source": [
    "df.head()"
   ]
  },
  {
   "cell_type": "code",
   "execution_count": null,
   "metadata": {},
   "outputs": [],
   "source": []
  }
 ],
 "metadata": {
  "kernelspec": {
   "display_name": "base",
   "language": "python",
   "name": "python3"
  },
  "language_info": {
   "codemirror_mode": {
    "name": "ipython",
    "version": 3
   },
   "file_extension": ".py",
   "mimetype": "text/x-python",
   "name": "python",
   "nbconvert_exporter": "python",
   "pygments_lexer": "ipython3",
   "version": "3.11.4"
  },
  "orig_nbformat": 4
 },
 "nbformat": 4,
 "nbformat_minor": 2
}
